plt.bar([1992,1993,1994,1995], [x1,x2,x3,x4], width = 1, edgecolor= 'black', yerr=[yerr1,yerr2,yerr3,yerr4], capsize=7)

barlist = plt.bar([1992,1993,1994,1995], [x1,x2,x3,x4], width = 1, edgecolor= 'black')

for i in range(len(barlist)):
    barlist[i].set_color('silver')
    barlist[i].set_edgecolor('black')

#plt.xticks([r for r in [0:4]],['1992','1993','1994','1995'])    
    
plt.show()

x_coordinates = [1991.5,1995.5]

def onclick(event):
    plt.cla()
    plt.bar([1992,1993,1994,1995], [x1,x2,x3,x4], width = 1, edgecolor= 'black', yerr=[yerr1,yerr2,yerr3,yerr4], capsize=7)
    
    barlist = plt.bar([1992,1993,1994,1995], [x1,x2,x3,x4], width = 1, edgecolor= 'black')
    
    y_coordinates = [event.ydata,event.ydata]
    
    for i in range(len(barlist)):
        if i==0:
            if event.ydata < a1[0]:
                barlist[i].set_color('red')
                barlist[i].set_edgecolor('black')
            elif event.ydata >a1[1]:
                barlist[i].set_color('blue')
                barlist[i].set_edgecolor('black')
            else:
                barlist[i].set_color('white')
                barlist[i].set_edgecolor('black')
        
        if i==1:
            if event.ydata <a2[0]:
                barlist[i].set_color('red')
                barlist[i].set_edgecolor('black')
            elif event.ydata >a2[1]:
                barlist[i].set_color('blue')
                barlist[i].set_edgecolor('black')
            else:
                barlist[i].set_color('white')
                barlist[i].set_edgecolor('black')

        if i==2:
            if event.ydata <a3[0]:
                barlist[i].set_color('red')
                barlist[i].set_edgecolor('black')
            elif event.ydata >a3[1]:
                barlist[i].set_color('blue')
                barlist[i].set_edgecolor('black')
            else:
                barlist[i].set_color('white')
                barlist[i].set_edgecolor('black')
        if i==3:
            if event.ydata <a4[0]:
                barlist[i].set_color('red')
                barlist[i].set_edgecolor('black')
            elif event.ydata >a4[1]:
                barlist[i].set_color('blue')
                barlist[i].set_edgecolor('black')
            else:
                barlist[i].set_color('white')
                barlist[i].set_edgecolor('black')
    
    plt.plot(x_coordinates,y_coordinates)

# tell mpl_connect we want to pass a 'button_press_event' into onclick when the event is detected
plt.gcf().canvas.mpl_connect('button_press_event', onclick)
